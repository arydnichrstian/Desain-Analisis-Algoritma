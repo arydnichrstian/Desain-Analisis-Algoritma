{
 "cells": [
  {
   "cell_type": "markdown",
   "metadata": {},
   "source": [
    "## Aryadani Christian\n",
    "## (2019071037)"
   ]
  },
  {
   "cell_type": "markdown",
   "metadata": {},
   "source": [
    "# Bab 13 Studi Kasus Fraud Analytics"
   ]
  },
  {
   "cell_type": "code",
   "execution_count": 1,
   "metadata": {},
   "outputs": [],
   "source": [
    "import networkx as nx\n",
    "import matplotlib.pyplot as plt"
   ]
  },
  {
   "cell_type": "code",
   "execution_count": 2,
   "metadata": {},
   "outputs": [],
   "source": [
    "vertices = range(1,10)\n",
    "edges= [(7,2),(2,3),(7,4),(4,5),(7,3),(7,5),(1,6),(1,7),(2,8),(2,9)]"
   ]
  },
  {
   "cell_type": "code",
   "execution_count": 3,
   "metadata": {},
   "outputs": [],
   "source": [
    "G = nx.Graph()"
   ]
  },
  {
   "cell_type": "code",
   "execution_count": 4,
   "metadata": {},
   "outputs": [],
   "source": [
    "G.add_nodes_from(vertices)\n",
    "G.add_edges_from(edges)\n",
    "pos=nx.spring_layout(G)"
   ]
  },
  {
   "cell_type": "code",
   "execution_count": 5,
   "metadata": {},
   "outputs": [
    {
     "data": {
      "text/plain": [
       "{1: Text(-0.16794773869196414, 0.5761905958222798, '1 NF'),\n",
       " 2: Text(0.3285977413362553, -0.3064348885987559, '2 F'),\n",
       " 3: Text(0.027567720921986234, -0.26856085906254723, '3 NF'),\n",
       " 4: Text(-0.5579042970920471, -0.13637509017612606, '4 NF'),\n",
       " 5: Text(-0.5751784441518895, 0.11573004853073968, '5 F'),\n",
       " 6: Text(-0.18709788290018942, 1.0, '6 F'),\n",
       " 7: Text(-0.15940311569051557, 0.03197673299966955, '7 F'),\n",
       " 8: Text(0.5200173676888651, -0.7109643709649011, '8 NF'),\n",
       " 9: Text(0.7713486485794993, -0.3015621685503591, '9 NF')}"
      ]
     },
     "execution_count": 5,
     "metadata": {},
     "output_type": "execute_result"
    },
    {
     "data": {
      "image/png": "[encoded data removed]",
      "text/plain": [
       "<Figure size 432x288 with 1 Axes>"
      ]
     },
     "metadata": {},
     "output_type": "display_data"
    }
   ],
   "source": [
    "nx.draw_networkx_nodes(G,pos,nodelist=[1,4,3,8,9],with_labels=True,node_color='g',node_size=1300)\n",
    "\n",
    "nx.draw_networkx_nodes(G,pos,nodelist=[2,5,6,7],with_labels=True,node_color='r',node_size=1300)\n",
    "\n",
    "nx.draw_networkx_edges(G,pos,edges,width=3,alpha=0.5,edge_color='b')\n",
    "labels={}\n",
    "labels[1]=r'1 NF'\n",
    "labels[2]=r'2 F'\n",
    "labels[3]=r'3 NF'\n",
    "labels[4]=r'4 NF'\n",
    "labels[5]=r'5 F'\n",
    "labels[6]=r'6 F'\n",
    "labels[7]=r'7 F'\n",
    "labels[8]=r'8 NF'\n",
    "labels[9]=r'9 NF'\n",
    "\n",
    "nx.draw_networkx_labels(G,pos,labels,font_size=16)"
   ]
  },
  {
   "cell_type": "code",
   "execution_count": null,
   "metadata": {},
   "outputs": [],
   "source": []
  }
 ],
 "metadata": {
  "kernelspec": {
   "display_name": "Python 3",
   "language": "python",
   "name": "python3"
  },
  "language_info": {
   "codemirror_mode": {
    "name": "ipython",
    "version": 3
   },
   "file_extension": ".py",
   "mimetype": "text/x-python",
   "name": "python",
   "nbconvert_exporter": "python",
   "pygments_lexer": "ipython3",
   "version": "3.8.3"
  }
 },
 "nbformat": 4,
 "nbformat_minor": 4
}
