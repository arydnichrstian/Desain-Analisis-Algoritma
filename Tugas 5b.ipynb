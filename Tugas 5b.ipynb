{
 "cells": [
  {
   "cell_type": "markdown",
   "metadata": {},
   "source": [
    "## Aryadani Christian W. (2019071037)"
   ]
  },
  {
   "cell_type": "markdown",
   "metadata": {},
   "source": [
    "## Tugas 2 DAA (Pertemuan ke-5)"
   ]
  },
  {
   "cell_type": "markdown",
   "metadata": {},
   "source": [
    "# A. Kasus Mergesort"
   ]
  },
  {
   "cell_type": "code",
   "execution_count": 1,
   "metadata": {},
   "outputs": [],
   "source": [
    "def merge_sort(values): \n",
    "  \n",
    "    if len(values)>1: \n",
    "        c = len(values)//2\n",
    "        left = values[:c] \n",
    "        right = values[c:] \n",
    "        left = merge_sort(left) \n",
    "        right = merge_sort(right) \n",
    "  \n",
    "        values = [] \n",
    "  \n",
    "        while len(left)>0 and len(right)>0: \n",
    "            if left[0]<right[0]: \n",
    "                values.append(left[0]) \n",
    "                left.pop(0) \n",
    "            else: \n",
    "                values.append(right[0]) \n",
    "                right.pop(0) \n",
    "  \n",
    "        for t in left: \n",
    "            values.append(t) \n",
    "        for t in right: \n",
    "            values.append(t) \n",
    "                  \n",
    "    return values"
   ]
  },
  {
   "cell_type": "code",
   "execution_count": 2,
   "metadata": {},
   "outputs": [
    {
     "name": "stdout",
     "output_type": "stream",
     "text": [
      "List sebelum disortir\n",
      "[21, 5, 9, 16, 30, 7]\n"
     ]
    }
   ],
   "source": [
    "list = [21, 5, 9, 16, 30, 7] \n",
    "print(\"List sebelum disortir\") \n",
    "print(list)"
   ]
  },
  {
   "cell_type": "code",
   "execution_count": 3,
   "metadata": {},
   "outputs": [
    {
     "name": "stdout",
     "output_type": "stream",
     "text": [
      "List setelah disortir\n",
      "[5, 7, 9, 16, 21, 30]\n"
     ]
    }
   ],
   "source": [
    "list = merge_sort(list) \n",
    "print(\"List setelah disortir\") \n",
    "print(list)"
   ]
  },
  {
   "cell_type": "markdown",
   "metadata": {},
   "source": [
    "# B. Kasus Quicksort"
   ]
  },
  {
   "cell_type": "code",
   "execution_count": 4,
   "metadata": {},
   "outputs": [],
   "source": [
    "def partition(arr, low, high):\n",
    "    x = (low-1)\n",
    "    pivot = arr[high]\n",
    " \n",
    "    for y in range(low, high):\n",
    " \n",
    "        if arr[y] <= pivot:\n",
    " \n",
    "            x = x+1\n",
    "            arr[x], arr[y] = arr[y], arr[x]\n",
    " \n",
    "    arr[x+1], arr[high] = arr[high], arr[x+1]\n",
    "    return (x+1)\n",
    " \n",
    "def quickSort(arr, low, high):\n",
    "    if len(arr) == 1:\n",
    "        return arr\n",
    "    if low < high:\n",
    " \n",
    "        par = partition(arr, low, high)\n",
    " \n",
    "        quickSort(arr, low, par-1)\n",
    "        quickSort(arr, par+1, high)"
   ]
  },
  {
   "cell_type": "code",
   "execution_count": 5,
   "metadata": {},
   "outputs": [
    {
     "name": "stdout",
     "output_type": "stream",
     "text": [
      "Array sebelum diurutkan\n",
      "[17, 12, 57, 8, 16, 25]\n"
     ]
    }
   ],
   "source": [
    "arr = [17, 12, 57, 8, 16, 25]\n",
    "print(\"Array sebelum diurutkan\")\n",
    "print(arr)"
   ]
  },
  {
   "cell_type": "code",
   "execution_count": 6,
   "metadata": {},
   "outputs": [
    {
     "name": "stdout",
     "output_type": "stream",
     "text": [
      "Array setelah diurutkan\n",
      "[8, 12, 16, 17, 25, 57]\n"
     ]
    }
   ],
   "source": [
    "list = len(arr)\n",
    "quickSort(arr, 0, list-1)\n",
    "print(\"Array setelah diurutkan\")\n",
    "print(arr)"
   ]
  },
  {
   "cell_type": "code",
   "execution_count": null,
   "metadata": {},
   "outputs": [],
   "source": []
  }
 ],
 "metadata": {
  "kernelspec": {
   "display_name": "Python 3",
   "language": "python",
   "name": "python3"
  },
  "language_info": {
   "codemirror_mode": {
    "name": "ipython",
    "version": 3
   },
   "file_extension": ".py",
   "mimetype": "text/x-python",
   "name": "python",
   "nbconvert_exporter": "python",
   "pygments_lexer": "ipython3",
   "version": "3.8.3"
  }
 },
 "nbformat": 4,
 "nbformat_minor": 4
}
