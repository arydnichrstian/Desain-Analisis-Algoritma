{
 "cells": [
  {
   "cell_type": "code",
   "execution_count": 38,
   "metadata": {},
   "outputs": [
    {
     "name": "stdout",
     "output_type": "stream",
     "text": [
      "(1, 'sampoerna mild', 'rokok', 35, 22000, 25000)\n",
      "(2, 'kapal api', 'minuman', 100, 11000, 1100)\n"
     ]
    }
   ],
   "source": [
    "import pymysql\n",
    "\n",
    "#database connection\n",
    "connection = pymysql.connect(host=\"localhost\", user=\"root\", passwd=\"\", database=\"uas_daa\")\n",
    "cursor = connection.cursor()\n",
    "\n",
    "# queries for retrievint all rows\n",
    "retrive = \"Select * from barang;\"\n",
    "\n",
    "#executing the quires\n",
    "cursor.execute(retrive)\n",
    "rows = cursor.fetchall()\n",
    "for row in rows:\n",
    "   print(row)\n",
    "\n",
    "\n",
    "#commiting the connection then closing it.\n",
    "connection.commit()\n",
    "connection.close()\n"
   ]
  },
  {
   "cell_type": "code",
   "execution_count": 39,
   "metadata": {},
   "outputs": [
    {
     "name": "stdout",
     "output_type": "stream",
     "text": [
      "(1, 'sampoerna mild', 'rokok', 35, 22000, 25000)\n",
      "(2, 'kapal api', 'minuman', 100, 11000, 1100)\n"
     ]
    }
   ],
   "source": [
    "import pymysql\n",
    "\n",
    "#database connection\n",
    "connection = pymysql.connect(host=\"localhost\", user=\"root\", passwd=\"\", database=\"uas_daa\")\n",
    "cursor = connection.cursor()\n",
    "\n",
    "# queries for inserting values\n",
    "insert1 = \"INSERT INTO barang(id_barang, nama_barang, jenis_barang, stok_barang, harga_beli, harga_jual) VALUES('2', 'kapal api', 'minuman', '100', '11000', '1100' );\"\n",
    "\n",
    "#executing the quires\n",
    "cursor.execute(retrive)\n",
    "rows = cursor.fetchall()\n",
    "for row in rows:\n",
    "   print(row)\n",
    "\n",
    "#commiting the connection then closing it.\n",
    "connection.commit()\n",
    "connection.close()"
   ]
  },
  {
   "cell_type": "code",
   "execution_count": 46,
   "metadata": {},
   "outputs": [
    {
     "ename": "NameError",
     "evalue": "name 'barang' is not defined",
     "output_type": "error",
     "traceback": [
      "\u001b[1;31m---------------------------------------------------------------------------\u001b[0m",
      "\u001b[1;31mNameError\u001b[0m                                 Traceback (most recent call last)",
      "\u001b[1;32m<ipython-input-46-cd0294a707a7>\u001b[0m in \u001b[0;36m<module>\u001b[1;34m\u001b[0m\n\u001b[0;32m     12\u001b[0m \u001b[1;33m\u001b[0m\u001b[0m\n\u001b[0;32m     13\u001b[0m \u001b[0mdf\u001b[0m \u001b[1;33m=\u001b[0m \u001b[0mpd\u001b[0m\u001b[1;33m.\u001b[0m\u001b[0mDataFrame\u001b[0m\u001b[1;33m(\u001b[0m\u001b[0mtable_rows\u001b[0m\u001b[1;33m)\u001b[0m\u001b[1;33m\u001b[0m\u001b[1;33m\u001b[0m\u001b[0m\n\u001b[1;32m---> 14\u001b[1;33m \u001b[0mprint\u001b[0m\u001b[1;33m(\u001b[0m\u001b[0mbarang\u001b[0m\u001b[1;33m)\u001b[0m\u001b[1;33m\u001b[0m\u001b[1;33m\u001b[0m\u001b[0m\n\u001b[0m",
      "\u001b[1;31mNameError\u001b[0m: name 'barang' is not defined"
     ]
    }
   ],
   "source": [
    "import mysql.connector as sql\n",
    "\n",
    "import pandas as pd\n",
    "\n",
    "db_connection = sql.connect(host='localhost', database='uas_daa', user='root', password='')\n",
    "\n",
    "db_cursor = db_connection.cursor()\n",
    "\n",
    "db_cursor.execute('SELECT * FROM barang')\n",
    "\n",
    "table_rows = db_cursor.fetchall()\n",
    "\n",
    "df = pd.DataFrame(table_rows)"
   ]
  },
  {
   "cell_type": "code",
   "execution_count": null,
   "metadata": {},
   "outputs": [],
   "source": []
  }
 ],
 "metadata": {
  "kernelspec": {
   "display_name": "Python 3",
   "language": "python",
   "name": "python3"
  },
  "language_info": {
   "codemirror_mode": {
    "name": "ipython",
    "version": 3
   },
   "file_extension": ".py",
   "mimetype": "text/x-python",
   "name": "python",
   "nbconvert_exporter": "python",
   "pygments_lexer": "ipython3",
   "version": "3.8.3"
  }
 },
 "nbformat": 4,
 "nbformat_minor": 4
}
